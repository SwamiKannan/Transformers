{
 "cells": [
  {
   "cell_type": "markdown",
   "metadata": {},
   "source": [
    "# <center> Sentiment Analysis </center>\n",
    "We seek to assess the accuracy of classification performance of a well tuned base BERT Transformer with Tensorflow.<br> We will be using the [Rotten Tomatoes movie reviews dataset](https://www.kaggle.com/c/sentiment-analysis-on-movie-reviews/data) for the analysis <br>.\n",
    "This excercise is performed across three phases:\n",
    "<ol>\n",
    "    <li> Data Transformation - Data Loading + EDA + Tokenization </li>\n",
    "    <li> Model Building and Training </li>\n",
    "    <li> Prediction </li>\n",
    "</ol>"
   ]
  },
  {
   "cell_type": "markdown",
   "metadata": {},
   "source": [
    "## Part 1- Data Transformation - Data Loading + EDA + Tokenization"
   ]
  },
  {
   "cell_type": "code",
   "execution_count": 94,
   "metadata": {},
   "outputs": [],
   "source": [
    "%config Completer.use_jedi = False"
   ]
  },
  {
   "cell_type": "code",
   "execution_count": 95,
   "metadata": {},
   "outputs": [],
   "source": [
    "from kaggle.api.kaggle_api_extended import KaggleApi\n",
    "import numpy as np\n",
    "import zipfile\n",
    "import pandas as pd"
   ]
  },
  {
   "cell_type": "code",
   "execution_count": 96,
   "metadata": {},
   "outputs": [],
   "source": [
    "api = KaggleApi()\n",
    "api.authenticate()"
   ]
  },
  {
   "cell_type": "markdown",
   "metadata": {},
   "source": [
    "### I. Load the data\n",
    "#### Extract using Kaggle API \n",
    "The path for the data is: sentiment-analysis-on-movie-reviews"
   ]
  },
  {
   "cell_type": "code",
   "execution_count": 97,
   "metadata": {},
   "outputs": [
    {
     "name": "stdout",
     "output_type": "stream",
     "text": [
      "train.tsv.zip: Skipping, found more recently modified local copy (use --force to force download)\n",
      "test.tsv.zip: Skipping, found more recently modified local copy (use --force to force download)\n"
     ]
    }
   ],
   "source": [
    "names=['train.tsv', 'test.tsv']\n",
    "for name in names:\n",
    "    api.competition_download_file('sentiment-analysis-on-movie-reviews',file_name=name+'.zip',path='./')\n",
    "    with zipfile.ZipFile(name+'.zip','r') as z:\n",
    "        z.extractall('./')"
   ]
  },
  {
   "cell_type": "markdown",
   "metadata": {},
   "source": [
    "### II. Exploratory Data Analysis on the training data set"
   ]
  },
  {
   "cell_type": "code",
   "execution_count": 98,
   "metadata": {},
   "outputs": [
    {
     "data": {
      "text/html": [
       "<div>\n",
       "<style scoped>\n",
       "    .dataframe tbody tr th:only-of-type {\n",
       "        vertical-align: middle;\n",
       "    }\n",
       "\n",
       "    .dataframe tbody tr th {\n",
       "        vertical-align: top;\n",
       "    }\n",
       "\n",
       "    .dataframe thead th {\n",
       "        text-align: right;\n",
       "    }\n",
       "</style>\n",
       "<table border=\"1\" class=\"dataframe\">\n",
       "  <thead>\n",
       "    <tr style=\"text-align: right;\">\n",
       "      <th></th>\n",
       "      <th>PhraseId</th>\n",
       "      <th>SentenceId</th>\n",
       "      <th>Phrase</th>\n",
       "      <th>Sentiment</th>\n",
       "    </tr>\n",
       "  </thead>\n",
       "  <tbody>\n",
       "    <tr>\n",
       "      <th>0</th>\n",
       "      <td>1</td>\n",
       "      <td>1</td>\n",
       "      <td>A series of escapades demonstrating the adage ...</td>\n",
       "      <td>1</td>\n",
       "    </tr>\n",
       "    <tr>\n",
       "      <th>1</th>\n",
       "      <td>2</td>\n",
       "      <td>1</td>\n",
       "      <td>A series of escapades demonstrating the adage ...</td>\n",
       "      <td>2</td>\n",
       "    </tr>\n",
       "    <tr>\n",
       "      <th>2</th>\n",
       "      <td>3</td>\n",
       "      <td>1</td>\n",
       "      <td>A series</td>\n",
       "      <td>2</td>\n",
       "    </tr>\n",
       "    <tr>\n",
       "      <th>3</th>\n",
       "      <td>4</td>\n",
       "      <td>1</td>\n",
       "      <td>A</td>\n",
       "      <td>2</td>\n",
       "    </tr>\n",
       "    <tr>\n",
       "      <th>4</th>\n",
       "      <td>5</td>\n",
       "      <td>1</td>\n",
       "      <td>series</td>\n",
       "      <td>2</td>\n",
       "    </tr>\n",
       "    <tr>\n",
       "      <th>5</th>\n",
       "      <td>6</td>\n",
       "      <td>1</td>\n",
       "      <td>of escapades demonstrating the adage that what...</td>\n",
       "      <td>2</td>\n",
       "    </tr>\n",
       "    <tr>\n",
       "      <th>6</th>\n",
       "      <td>7</td>\n",
       "      <td>1</td>\n",
       "      <td>of</td>\n",
       "      <td>2</td>\n",
       "    </tr>\n",
       "    <tr>\n",
       "      <th>7</th>\n",
       "      <td>8</td>\n",
       "      <td>1</td>\n",
       "      <td>escapades demonstrating the adage that what is...</td>\n",
       "      <td>2</td>\n",
       "    </tr>\n",
       "    <tr>\n",
       "      <th>8</th>\n",
       "      <td>9</td>\n",
       "      <td>1</td>\n",
       "      <td>escapades</td>\n",
       "      <td>2</td>\n",
       "    </tr>\n",
       "    <tr>\n",
       "      <th>9</th>\n",
       "      <td>10</td>\n",
       "      <td>1</td>\n",
       "      <td>demonstrating the adage that what is good for ...</td>\n",
       "      <td>2</td>\n",
       "    </tr>\n",
       "  </tbody>\n",
       "</table>\n",
       "</div>"
      ],
      "text/plain": [
       "   PhraseId  SentenceId                                             Phrase  \\\n",
       "0         1           1  A series of escapades demonstrating the adage ...   \n",
       "1         2           1  A series of escapades demonstrating the adage ...   \n",
       "2         3           1                                           A series   \n",
       "3         4           1                                                  A   \n",
       "4         5           1                                             series   \n",
       "5         6           1  of escapades demonstrating the adage that what...   \n",
       "6         7           1                                                 of   \n",
       "7         8           1  escapades demonstrating the adage that what is...   \n",
       "8         9           1                                          escapades   \n",
       "9        10           1  demonstrating the adage that what is good for ...   \n",
       "\n",
       "   Sentiment  \n",
       "0          1  \n",
       "1          2  \n",
       "2          2  \n",
       "3          2  \n",
       "4          2  \n",
       "5          2  \n",
       "6          2  \n",
       "7          2  \n",
       "8          2  \n",
       "9          2  "
      ]
     },
     "execution_count": 98,
     "metadata": {},
     "output_type": "execute_result"
    }
   ],
   "source": [
    "df_sent=pd.read_csv('train.tsv',sep='\\t')\n",
    "df_sent.head(10)"
   ]
  },
  {
   "cell_type": "code",
   "execution_count": 99,
   "metadata": {},
   "outputs": [
    {
     "name": "stdout",
     "output_type": "stream",
     "text": [
      "The total number of samples available: 156060\n",
      "The total unique number of samples available: 8529\n"
     ]
    }
   ],
   "source": [
    "print(f'The total number of samples available: {len(df_sent[\"SentenceId\"])}')\n",
    "print(f'The total unique number of samples available: {len(df_sent[\"SentenceId\"].unique())}')"
   ]
  },
  {
   "cell_type": "markdown",
   "metadata": {},
   "source": [
    "Hence, on an average, there are around 18.3 duplicates per unique sentence. However, in the case of the SentenceId 1, we see that even the sentiment label changes from the first sample to the second"
   ]
  },
  {
   "cell_type": "code",
   "execution_count": 100,
   "metadata": {},
   "outputs": [],
   "source": [
    "count_unique_per_id=[]\n",
    "for i in df_sent['SentenceId']:\n",
    "    count_unique_per_id.append(df_sent[df_sent['SentenceId']==i]['Sentiment'].nunique())"
   ]
  },
  {
   "cell_type": "code",
   "execution_count": 101,
   "metadata": {},
   "outputs": [
    {
     "name": "stdout",
     "output_type": "stream",
     "text": [
      "No. of unique sentiments: 1,\tCount of instances: 1304,\t %contribution: 0.84%\n",
      "No. of unique sentiments: 2,\tCount of instances: 17694,\t %contribution: 11.34%\n",
      "No. of unique sentiments: 3,\tCount of instances: 71479,\t %contribution: 45.80%\n",
      "No. of unique sentiments: 4,\tCount of instances: 55922,\t %contribution: 35.83%\n",
      "No. of unique sentiments: 5,\tCount of instances: 9661,\t %contribution: 6.19%\n"
     ]
    }
   ],
   "source": [
    "unique, counts = np.unique(count_unique_per_id, return_counts=True)\n",
    "for i,count in enumerate(counts):\n",
    "    print(f'No. of unique sentiments: {i+1},\\tCount of instances: {count},\\t %contribution: {count*100/np.sum(counts):.2f}%')"
   ]
  },
  {
   "cell_type": "code",
   "execution_count": 102,
   "metadata": {},
   "outputs": [],
   "source": [
    "import matplotlib.pyplot as plt"
   ]
  },
  {
   "cell_type": "code",
   "execution_count": 103,
   "metadata": {},
   "outputs": [
    {
     "data": {
      "image/png": "[encoded data removed]",
      "text/plain": [
       "<Figure size 720x360 with 1 Axes>"
      ]
     },
     "metadata": {
      "needs_background": "light"
     },
     "output_type": "display_data"
    }
   ],
   "source": [
    "plt.figure(figsize=(10, 5))\n",
    "plt.bar(unique,counts,color='#ff9c00')\n",
    "plt.title('Distribution of number of sentiments per sentenceId')\n",
    "plt.xlabel('Number of unique sentiments per sentenceID')\n",
    "plt.ylabel('Count of samples')\n",
    "plt.show();"
   ]
  },
  {
   "cell_type": "markdown",
   "metadata": {},
   "source": [
    "So clearly:\n",
    "<ul>\n",
    "    <li> a Majority of unique sentences have 3 different sentiments for multiple terms removed from the original phrase.</li><li>This can be <b>useful</b> to the model to determine which words trigger which sentiments. Hence, we retain these samples </li>\n",
    "    <li>Only 1304 sentence ids have only one unique id. This is less than 1% of the samples</li>\n",
    "\n",
    "</ul>"
   ]
  },
  {
   "cell_type": "code",
   "execution_count": 104,
   "metadata": {},
   "outputs": [
    {
     "data": {
      "text/plain": [
       "8529"
      ]
     },
     "execution_count": 104,
     "metadata": {},
     "output_type": "execute_result"
    }
   ],
   "source": [
    "total_sent=len(np.unique(df_sent['SentenceId'])) #Total number of unique sentence Ids\n",
    "total_sent"
   ]
  },
  {
   "cell_type": "code",
   "execution_count": 105,
   "metadata": {},
   "outputs": [
    {
     "data": {
      "text/plain": [
       "array([[63, 63, 63, ..., 21, 21, 21]], dtype=int64)"
      ]
     },
     "execution_count": 105,
     "metadata": {},
     "output_type": "execute_result"
    }
   ],
   "source": [
    "counts= np.array([df_sent.groupby('SentenceId')['SentenceId'].transform('count')]) #find array which has the number of each sentence id\n",
    "counts"
   ]
  },
  {
   "cell_type": "code",
   "execution_count": 106,
   "metadata": {},
   "outputs": [],
   "source": [
    "unique_sent=len(np.where(counts==1)[0]) #Find sentence ids occuring only once "
   ]
  },
  {
   "cell_type": "code",
   "execution_count": 107,
   "metadata": {},
   "outputs": [
    {
     "name": "stdout",
     "output_type": "stream",
     "text": [
      "No. of sentences where more than one sentiment is attached to one sentence id is: 8480\n"
     ]
    }
   ],
   "source": [
    "print(f'No. of sentences where more than one sentiment is attached to one sentence id is: {total_sent-unique_sent}')"
   ]
  },
  {
   "cell_type": "markdown",
   "metadata": {},
   "source": [
    "Out of the 8529 unique sentences, 8480 have multiple sentiments (99.4% of the data) has multiple, non-unique sentiments"
   ]
  },
  {
   "cell_type": "code",
   "execution_count": 108,
   "metadata": {},
   "outputs": [
    {
     "name": "stdout",
     "output_type": "stream",
     "text": [
      "2    50.994489\n",
      "3    21.098936\n",
      "1    17.475971\n",
      "4     5.899013\n",
      "0     4.531590\n",
      "Name: Sentiment, dtype: float64\n"
     ]
    },
    {
     "data": {
      "image/png": "[encoded data removed]",
      "text/plain": [
       "<Figure size 432x288 with 1 Axes>"
      ]
     },
     "metadata": {
      "needs_background": "light"
     },
     "output_type": "display_data"
    }
   ],
   "source": [
    "a=df_sent['Sentiment'].value_counts()*100/len(df_sent['Sentiment'])\n",
    "print(a)\n",
    "a.plot(kind='bar');"
   ]
  },
  {
   "cell_type": "markdown",
   "metadata": {},
   "source": [
    "From the Kaggle site:<br>\n",
    "The sentiment labels are:<br>\n",
    "0 - negative<br>\n",
    "1 - somewhat negative<br>\n",
    "2 - neutral<br>\n",
    "3 - somewhat positive<br>\n",
    "4 - positive<br>"
   ]
  },
  {
   "cell_type": "markdown",
   "metadata": {},
   "source": [
    "Hence, we see that most of the samples (51%) have a neutral sentiment which seems to be appropriate since most of the words in the English language have a neutral tone"
   ]
  },
  {
   "cell_type": "markdown",
   "metadata": {},
   "source": [
    "### III. Tokenization"
   ]
  },
  {
   "cell_type": "markdown",
   "metadata": {},
   "source": [
    "We need to create tokens for the input column <b> Phrase </b> and the one hot key representation of the target label <b> Sentiment </b>"
   ]
  },
  {
   "cell_type": "code",
   "execution_count": 109,
   "metadata": {},
   "outputs": [],
   "source": [
    "from transformers import BertTokenizer"
   ]
  },
  {
   "cell_type": "markdown",
   "metadata": {},
   "source": [
    "#### Tokenizing input Phrase"
   ]
  },
  {
   "cell_type": "code",
   "execution_count": 110,
   "metadata": {},
   "outputs": [],
   "source": [
    "tokenizer=BertTokenizer.from_pretrained('bert-base-cased')"
   ]
  },
  {
   "cell_type": "code",
   "execution_count": 111,
   "metadata": {},
   "outputs": [],
   "source": [
    "tokens=tokenizer(df_sent['Phrase'].tolist(),max_length=512,padding='max_length',add_special_tokens=True,return_tensors='np',truncation=True)"
   ]
  },
  {
   "cell_type": "code",
   "execution_count": 112,
   "metadata": {},
   "outputs": [
    {
     "data": {
      "text/plain": [
       "dict_keys(['input_ids', 'token_type_ids', 'attention_mask'])"
      ]
     },
     "execution_count": 112,
     "metadata": {},
     "output_type": "execute_result"
    }
   ],
   "source": [
    "tokens.keys()"
   ]
  },
  {
   "cell_type": "code",
   "execution_count": 113,
   "metadata": {},
   "outputs": [
    {
     "data": {
      "text/plain": [
       "[True, True, True, True, True, True, True, True, True, True]"
      ]
     },
     "execution_count": 113,
     "metadata": {},
     "output_type": "execute_result"
    }
   ],
   "source": [
    "#On a sample basis, check if attention masks have been applied correctly i.e. attention mask = 0 only if the input id is padded\n",
    "import random\n",
    "r=list(range(len(tokens['input_ids'])))\n",
    "[tokens['input_ids'][i].tolist().index(0)==tokens['attention_mask'][i].tolist().index(0) for i in np.random.choice(r,size=10)]"
   ]
  },
  {
   "cell_type": "code",
   "execution_count": 114,
   "metadata": {},
   "outputs": [
    {
     "data": {
      "text/plain": [
       "numpy.ndarray"
      ]
     },
     "execution_count": 114,
     "metadata": {},
     "output_type": "execute_result"
    }
   ],
   "source": [
    "type(tokens['input_ids']) #Re-check if return tensors are correct"
   ]
  },
  {
   "cell_type": "markdown",
   "metadata": {},
   "source": [
    "#### One hot key encoding of <b> Sentiment </b>"
   ]
  },
  {
   "cell_type": "code",
   "execution_count": 115,
   "metadata": {},
   "outputs": [],
   "source": [
    "###One hot key representation for Sentiment column\n",
    "def OHK(array,vocab_size):\n",
    "    ohk=np.zeros((len(array),vocab_size))\n",
    "    ohk[range(len(array)),array]=1\n",
    "    return ohk"
   ]
  },
  {
   "cell_type": "code",
   "execution_count": 116,
   "metadata": {},
   "outputs": [
    {
     "data": {
      "text/plain": [
       "4"
      ]
     },
     "execution_count": 116,
     "metadata": {},
     "output_type": "execute_result"
    }
   ],
   "source": [
    "df_sent['Sentiment'].max()"
   ]
  },
  {
   "cell_type": "code",
   "execution_count": 117,
   "metadata": {},
   "outputs": [],
   "source": [
    "sentiment =OHK(df_sent['Sentiment'],df_sent['Sentiment'].max()+1) #Create one hot key for Sentiment column"
   ]
  },
  {
   "cell_type": "code",
   "execution_count": 118,
   "metadata": {},
   "outputs": [
    {
     "name": "stdout",
     "output_type": "stream",
     "text": [
      "[ True  True  True  True  True  True  True  True  True  True]\n"
     ]
    }
   ],
   "source": [
    "r=list(np.random.choice(df_sent['Sentiment'],10)) #Check accuracy of the one hot key encoding\n",
    "print(np.squeeze([df_sent['Sentiment'][i]==np.where(sentiment[i]==1) for i in r]))"
   ]
  },
  {
   "cell_type": "markdown",
   "metadata": {},
   "source": [
    "#### Storing all required inputs and labels at disk"
   ]
  },
  {
   "cell_type": "markdown",
   "metadata": {},
   "source": [
    "We need only the input_ids and attenion mask arrays as inputs from the 'Phrase' column and the one hot key representation of the 'Sentiment' column as the output for the analysis "
   ]
  },
  {
   "cell_type": "code",
   "execution_count": 119,
   "metadata": {},
   "outputs": [],
   "source": [
    "file_names=['input_ids','attention_mask']\n",
    "\n",
    "for file in file_names:\n",
    "    with open(str(file)+'.npy','wb') as f:\n",
    "        np.save(f,tokens[file])\n",
    "with open('sentiment.npy','wb') as f:\n",
    "    np.save(f,sentiment)"
   ]
  },
  {
   "cell_type": "code",
   "execution_count": 120,
   "metadata": {},
   "outputs": [],
   "source": [
    "def test_process(test_csv_name): #Creating a single function for all text processing for the test data\n",
    "    df=pd.read_csv(test_csv_name,sep='\\t')\n",
    "    from transformers import BertTokenizer\n",
    "    tokenizer=BertTokenizer.from_pretrained('bert-base-cased')\n",
    "    tokens_test=tokenizer(df['Phrase'].tolist(),max_length=512,padding='max_length',add_special_tokens=True,return_tensors='np',truncation=True)\n",
    "    sentiment=OHK(df['Sentiment'],df['Sentiment'].max()+1)\n",
    "    with open('test_input_ids.npy','wb') as f:\n",
    "        np.save(f,tokens_test['input_ids'])\n",
    "    with open('test_attention_masks.npy','wb') as f:\n",
    "        np.save(f,tokens_test['attention_mask'])\n",
    "    with open('test_sentiment.npy','wb') as f:\n",
    "        np.save(f,sentiment)"
   ]
  },
  {
   "cell_type": "markdown",
   "metadata": {},
   "source": [
    "### IV. Batch creation"
   ]
  },
  {
   "cell_type": "code",
   "execution_count": 121,
   "metadata": {},
   "outputs": [],
   "source": [
    "with open('input_ids.npy','rb') as f:\n",
    "    movie_ids=np.load(f, allow_pickle=True)\n",
    "with open('attention_mask.npy','rb') as f:\n",
    "    attention_masks=np.load(f, allow_pickle=True)\n",
    "with open('sentiment.npy','rb') as f:\n",
    "    labels=np.load(f, allow_pickle=True)"
   ]
  },
  {
   "cell_type": "code",
   "execution_count": 122,
   "metadata": {},
   "outputs": [
    {
     "name": "stdout",
     "output_type": "stream",
     "text": [
      "(156060, 512)\n",
      "(156060, 512)\n",
      "(156060, 5)\n"
     ]
    }
   ],
   "source": [
    "print(movie_ids.shape)\n",
    "print(attention_masks.shape)\n",
    "print(labels.shape)"
   ]
  },
  {
   "cell_type": "code",
   "execution_count": 123,
   "metadata": {},
   "outputs": [],
   "source": [
    "#Creating the equivalent of a zipped (inputs, outputs) file for the inputs and outputs to feed into tensorflow\n",
    "import tensorflow as tf\n",
    "trainset=tf.data.Dataset.from_tensor_slices((movie_ids,attention_masks,labels))"
   ]
  },
  {
   "cell_type": "code",
   "execution_count": 124,
   "metadata": {},
   "outputs": [
    {
     "data": {
      "text/plain": [
       "<TakeDataset shapes: ((512,), (512,), (5,)), types: (tf.int32, tf.int32, tf.float64)>"
      ]
     },
     "execution_count": 124,
     "metadata": {},
     "output_type": "execute_result"
    }
   ],
   "source": [
    "trainset.take(1)"
   ]
  },
  {
   "cell_type": "markdown",
   "metadata": {},
   "source": [
    "#### Hence, from_tensor_slices kinda acts like a zip of the two inputs and the output. So the first sample of the dataset has the first element of movie_ids, the first element of the attention masks and the first element of labels"
   ]
  },
  {
   "cell_type": "code",
   "execution_count": 125,
   "metadata": {},
   "outputs": [
    {
     "data": {
      "text/plain": [
       "(TensorSpec(shape=(512,), dtype=tf.int32, name=None),\n",
       " TensorSpec(shape=(512,), dtype=tf.int32, name=None),\n",
       " TensorSpec(shape=(5,), dtype=tf.float64, name=None))"
      ]
     },
     "execution_count": 125,
     "metadata": {},
     "output_type": "execute_result"
    }
   ],
   "source": [
    "trainset.element_spec"
   ]
  },
  {
   "cell_type": "markdown",
   "metadata": {},
   "source": [
    "##### So indirectly, we see that the trainset has three tensors: first two with a shape of (512,) [movie id and attention mask] and a third with a shape of 5 [One hot key representation of the labels]"
   ]
  },
  {
   "cell_type": "markdown",
   "metadata": {},
   "source": [
    "##### Tensorflow requires the data to be provided as input, labels. However, since we have two inputs and one output, we provide it as an input dictionary and an output tensor"
   ]
  },
  {
   "cell_type": "code",
   "execution_count": 126,
   "metadata": {},
   "outputs": [],
   "source": [
    "def transform_io(ids,mask,label):\n",
    "    return ({'ids':ids,'masks':mask},label)"
   ]
  },
  {
   "cell_type": "code",
   "execution_count": 127,
   "metadata": {},
   "outputs": [],
   "source": [
    "trainset=trainset.map(transform_io)"
   ]
  },
  {
   "cell_type": "code",
   "execution_count": 128,
   "metadata": {},
   "outputs": [
    {
     "data": {
      "text/plain": [
       "({'ids': TensorSpec(shape=(512,), dtype=tf.int32, name=None),\n",
       "  'masks': TensorSpec(shape=(512,), dtype=tf.int32, name=None)},\n",
       " TensorSpec(shape=(5,), dtype=tf.float64, name=None))"
      ]
     },
     "execution_count": 128,
     "metadata": {},
     "output_type": "execute_result"
    }
   ],
   "source": [
    "trainset.element_spec"
   ]
  },
  {
   "cell_type": "markdown",
   "metadata": {},
   "source": [
    "##### Now, we see that the content has changed from three tensors to one dictionary of two tensors, each of shape (512,) and one tensor of shape (5,)"
   ]
  },
  {
   "cell_type": "markdown",
   "metadata": {},
   "source": [
    "#### Shuffling and creating batches"
   ]
  },
  {
   "cell_type": "code",
   "execution_count": 129,
   "metadata": {},
   "outputs": [],
   "source": [
    "batch_size=32"
   ]
  },
  {
   "cell_type": "code",
   "execution_count": 130,
   "metadata": {},
   "outputs": [],
   "source": [
    "ref_set=trainset.shuffle(10000).batch(batch_size=batch_size, drop_remainder=True)"
   ]
  },
  {
   "cell_type": "code",
   "execution_count": 131,
   "metadata": {},
   "outputs": [
    {
     "data": {
      "text/plain": [
       "<BatchDataset shapes: ({ids: (32, 512), masks: (32, 512)}, (32, 5)), types: ({ids: tf.int32, masks: tf.int32}, tf.float64)>"
      ]
     },
     "execution_count": 131,
     "metadata": {},
     "output_type": "execute_result"
    }
   ],
   "source": [
    "ref_set"
   ]
  },
  {
   "cell_type": "markdown",
   "metadata": {},
   "source": [
    "#### Spliting into train and validation sets"
   ]
  },
  {
   "cell_type": "code",
   "execution_count": 132,
   "metadata": {},
   "outputs": [
    {
     "data": {
      "text/plain": [
       "4389"
      ]
     },
     "execution_count": 132,
     "metadata": {},
     "output_type": "execute_result"
    }
   ],
   "source": [
    "#We need a split that will give us a multiple of the batch_size\n",
    "split=0.9\n",
    "int(movie_ids.shape[0]*0.9/batch_size)"
   ]
  },
  {
   "cell_type": "code",
   "execution_count": 133,
   "metadata": {},
   "outputs": [
    {
     "data": {
      "text/plain": [
       "tensorflow.python.data.ops.dataset_ops.TakeDataset"
      ]
     },
     "execution_count": 133,
     "metadata": {},
     "output_type": "execute_result"
    }
   ],
   "source": [
    "train_set=ref_set.take(4389)\n",
    "validate_set=ref_set.skip(4389)\n",
    "type(train_set)"
   ]
  },
  {
   "cell_type": "code",
   "execution_count": 134,
   "metadata": {},
   "outputs": [
    {
     "name": "stdout",
     "output_type": "stream",
     "text": [
      "({'ids': TensorSpec(shape=(32, 512), dtype=tf.int32, name=None), 'masks': TensorSpec(shape=(32, 512), dtype=tf.int32, name=None)}, TensorSpec(shape=(32, 5), dtype=tf.float64, name=None))\n",
      "({'ids': TensorSpec(shape=(32, 512), dtype=tf.int32, name=None), 'masks': TensorSpec(shape=(32, 512), dtype=tf.int32, name=None)}, TensorSpec(shape=(32, 5), dtype=tf.float64, name=None))\n"
     ]
    }
   ],
   "source": [
    "print(train_set.element_spec)\n",
    "print(validate_set.element_spec)"
   ]
  },
  {
   "cell_type": "code",
   "execution_count": 135,
   "metadata": {},
   "outputs": [],
   "source": [
    "tf.data.experimental.save(train_set,'train')\n",
    "tf.data.experimental.save(validate_set,'validate')"
   ]
  },
  {
   "cell_type": "code",
   "execution_count": 136,
   "metadata": {},
   "outputs": [],
   "source": [
    "with open('train_element_spec.txt','w') as f:\n",
    "    f.write(str(train_set.element_spec))\n",
    "with open('validate_element_spec.txt','w') as f:\n",
    "    f.write(str(validate_set.element_spec))"
   ]
  },
  {
   "cell_type": "code",
   "execution_count": null,
   "metadata": {},
   "outputs": [],
   "source": []
  }
 ],
 "metadata": {
  "kernelspec": {
   "display_name": "Python 3",
   "language": "python",
   "name": "python3"
  },
  "language_info": {
   "codemirror_mode": {
    "name": "ipython",
    "version": 3
   },
   "file_extension": ".py",
   "mimetype": "text/x-python",
   "name": "python",
   "nbconvert_exporter": "python",
   "pygments_lexer": "ipython3",
   "version": "3.8.5"
  }
 },
 "nbformat": 4,
 "nbformat_minor": 4
}
